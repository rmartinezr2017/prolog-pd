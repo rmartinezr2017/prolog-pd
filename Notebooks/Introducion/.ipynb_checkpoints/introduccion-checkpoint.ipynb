{
 "cells": [
  {
   "cell_type": "markdown",
   "id": "10f5c954",
   "metadata": {},
   "source": [
    "# Introducción al paradigma de la Programación Lógica"
   ]
  },
  {
   "cell_type": "markdown",
   "id": "e61a59f1",
   "metadata": {},
   "source": [
    "La programación lógica hace uso de la **lógica matemática** y la **demostración automática** como herramientas de computo."
   ]
  },
  {
   "cell_type": "markdown",
   "id": "9ec0a0ad",
   "metadata": {},
   "source": [
    "El lenguaje **PROLOG** se basa en un **sistema de resolución con unificación**."
   ]
  },
  {
   "cell_type": "markdown",
   "id": "ddbe0c97",
   "metadata": {},
   "source": [
    "**PROLOG** permite no solo demostrar razonamientos lógicos, si no, también permite **computar**."
   ]
  },
  {
   "cell_type": "markdown",
   "id": "16d8d6c2",
   "metadata": {},
   "source": [
    "## Esquema de funcionamiento"
   ]
  },
  {
   "cell_type": "markdown",
   "id": "a0f6ea2e",
   "metadata": {},
   "source": [
    "- **PASO 1: Escritura de un programa lógico:**\n",
    "    - $\\text{Programa lógico} = \\text{conjunto de fórmulas lógicas}$\n",
    "    <br><br>\n",
    "- **PASO 2: Escritura de una consulta:**<br>\n",
    "    - $\\text{Consulta} = \\text{fórmula lógica}$\n",
    "    <br><br>\n",
    "- **PASO 3: Resolución del programa:**<br>\n",
    "    - Averigua si la consulta es consecuencia lógica de las premisas\n",
    "    - Si la consulta es consecuencia lógica, computa los valores que hacen que la consulta se deduzca del programa."
   ]
  },
  {
   "cell_type": "markdown",
   "id": "23ec1866",
   "metadata": {},
   "source": [
    "### Ejemplo de uso"
   ]
  },
  {
   "cell_type": "markdown",
   "id": "896e21dd",
   "metadata": {},
   "source": [
    "- **PASO 1:**<br>\n",
    "&nbsp;&nbsp;&nbsp;&nbsp;$\\forall X(\\text{persona}(X) \\rightarrow \\text{mortal}(X))$<br>\n",
    "&nbsp;&nbsp;&nbsp;&nbsp;$\\text{persona}(\\text{Sócrates})$<br><br>\n",
    "- **PASO 2:**<br>\n",
    "&nbsp;&nbsp;&nbsp;&nbsp;$\\exists Y \\text{mortal}(Y)$<br><br>\n",
    "- **PASO 3:**<br>\n",
    "&nbsp;&nbsp;&nbsp;&nbsp;$Y = \\text{Sócrates}$"
   ]
  }
 ],
 "metadata": {
  "kernelspec": {
   "display_name": "Calysto Prolog",
   "language": "prolog",
   "name": "calysto_prolog"
  },
  "language_info": {
   "codemirror_mode": {
    "name": "prolog"
   },
   "mimetype": "text/x-prolog",
   "name": "prolog",
   "pygments_lexer": "prolog"
  }
 },
 "nbformat": 4,
 "nbformat_minor": 5
}
