{
 "cells": [
  {
   "cell_type": "markdown",
   "id": "77143165",
   "metadata": {},
   "source": [
    "# Características generales"
   ]
  },
  {
   "cell_type": "markdown",
   "id": "cc560baf",
   "metadata": {},
   "source": [
    "**PROLOG** utiliza la programación lógica definida:\n",
    "- Su lenguaje es un subconjunto de la **Lógica de Primer Orden**,\n",
    "cuyas fórmulas se conocen como cláusulas de Horn.\n",
    "- Usa el sistema de demostración llamado **SLD**"
   ]
  },
  {
   "cell_type": "markdown",
   "id": "84b56839",
   "metadata": {},
   "source": [
    "## Ejemplo de programa básico"
   ]
  },
  {
   "cell_type": "code",
   "execution_count": 7,
   "id": "5d91ec29",
   "metadata": {},
   "outputs": [
    {
     "name": "stdout",
     "output_type": "stream",
     "text": [
      "Rule added to database.\n",
      "Rule added to database.\n",
      "Rule added to database.\n",
      "Rule added to database.\n",
      "Rule added to database.\n",
      "Rule added to database.\n",
      "Rule added to database.\n",
      "Rule added to database.\n",
      "Rule added to database.\n"
     ]
    }
   ],
   "source": [
    "% PROGRAMA SOBRE LA MORTALIDAD DE SÓCRATES\n",
    "\n",
    "% persona(X)\n",
    "% cierto si X es una persona\n",
    "persona(socrates). % HECHO: Sócrates es una persona\n",
    "persona(pepa).\n",
    "\n",
    "% mortal(?X)\n",
    "% cierto si X es mortal\n",
    "mortal(X) :-\n",
    "    persona(X). % REGLA: todas las personas son mortales"
   ]
  }
 ],
 "metadata": {
  "kernelspec": {
   "display_name": "Calysto Prolog",
   "language": "prolog",
   "name": "calysto_prolog"
  },
  "language_info": {
   "codemirror_mode": {
    "name": "prolog"
   },
   "mimetype": "text/x-prolog",
   "name": "prolog",
   "pygments_lexer": "prolog"
  }
 },
 "nbformat": 4,
 "nbformat_minor": 5
}
