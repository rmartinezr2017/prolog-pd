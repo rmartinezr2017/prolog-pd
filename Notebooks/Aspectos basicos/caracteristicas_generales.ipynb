{
 "cells": [
  {
   "cell_type": "markdown",
   "id": "77143165",
   "metadata": {},
   "source": [
    "# Características generales"
   ]
  },
  {
   "cell_type": "markdown",
   "id": "cc560baf",
   "metadata": {},
   "source": [
    "**PROLOG** utiliza la programación lógica definida:\n",
    "- Su lenguaje es un subconjunto de la **Lógica de Primer Orden**,\n",
    "cuyas fórmulas se conocen como cláusulas de Horn.\n",
    "- Usa el sistema de demostración llamado **SLD**"
   ]
  },
  {
   "cell_type": "markdown",
   "id": "84b56839",
   "metadata": {},
   "source": [
    "## Ejemplos de programas básicos"
   ]
  },
  {
   "cell_type": "markdown",
   "id": "9e5e37b9",
   "metadata": {},
   "source": [
    "### Mortalidad de Sócrates"
   ]
  },
  {
   "cell_type": "code",
   "execution_count": 1,
   "id": "5d91ec29",
   "metadata": {},
   "outputs": [
    {
     "name": "stdout",
     "output_type": "stream",
     "text": [
      "Rule added to database.\n",
      "Rule added to database.\n",
      "Rule added to database.\n",
      "Rule added to database.\n",
      "Rule added to database.\n",
      "Rule added to database.\n",
      "Rule added to database.\n",
      "Rule added to database.\n",
      "Rule added to database.\n"
     ]
    }
   ],
   "source": [
    "% PROGRAMA SOBRE LA MORTALIDAD DE SÓCRATES\n",
    "\n",
    "% persona(X)\n",
    "% cierto si X es una persona\n",
    "persona(socrates). % HECHO: Sócrates es una persona\n",
    "persona(pepa).\n",
    "\n",
    "% mortal(?X)\n",
    "% cierto si X es mortal\n",
    "mortal(X) :-\n",
    "    persona(X). % REGLA: todas las personas son mortales"
   ]
  },
  {
   "cell_type": "code",
   "execution_count": 7,
   "id": "fd8b55e7",
   "metadata": {},
   "outputs": [
    {
     "name": "stdout",
     "output_type": "stream",
     "text": [
      "Use '%continue' for more results.\n"
     ]
    },
    {
     "data": {
      "text/plain": [
       "True"
      ]
     },
     "execution_count": 7,
     "metadata": {},
     "output_type": "execute_result"
    }
   ],
   "source": [
    "mortal(Mortales)?"
   ]
  },
  {
   "cell_type": "markdown",
   "id": "0a0fe5c6",
   "metadata": {},
   "source": [
    "### Abuelos"
   ]
  },
  {
   "cell_type": "code",
   "execution_count": 10,
   "id": "fca926ec",
   "metadata": {},
   "outputs": [
    {
     "name": "stdout",
     "output_type": "stream",
     "text": [
      "Rule added to database.\n",
      "Rule added to database.\n",
      "Rule added to database.\n",
      "Rule added to database.\n",
      "Rule added to database.\n",
      "Rule added to database.\n",
      "Rule added to database.\n",
      "Rule added to database.\n",
      "Rule added to database.\n",
      "Rule added to database.\n",
      "Rule added to database.\n"
     ]
    }
   ],
   "source": [
    "% PROGRANA ABUELOS\n",
    "\n",
    "% progemitor(?X, ?Y)\n",
    "% cierto si X es progenitor/a de Y\n",
    "progenitor(pepa, pepito)\n",
    "progenitor(pepito, pepita)\n",
    "progenitor(pepito, pepon)\n",
    "\n",
    "% abuelo(?X, ?Y)\n",
    "% cierto si X es abuelo/a de Y\n",
    "\n",
    "abuelo(X,Z) :-\n",
    "    progenitor(X, Y),\n",
    "    progenitor(Y, Z)."
   ]
  },
  {
   "cell_type": "code",
   "execution_count": 43,
   "id": "463c0f26",
   "metadata": {},
   "outputs": [
    {
     "name": "stdout",
     "output_type": "stream",
     "text": [
      "Use '%continue' for more results.\n"
     ]
    },
    {
     "data": {
      "text/plain": [
       "True"
      ]
     },
     "execution_count": 43,
     "metadata": {},
     "output_type": "execute_result"
    }
   ],
   "source": [
    "abuelo(X, Y)?"
   ]
  },
  {
   "cell_type": "code",
   "execution_count": 44,
   "id": "b965f562",
   "metadata": {},
   "outputs": [
    {
     "name": "stdout",
     "output_type": "stream",
     "text": [
      "Use '%continue' for more results.\n"
     ]
    },
    {
     "data": {
      "text/plain": [
       "{'X': pepa}"
      ]
     },
     "execution_count": 44,
     "metadata": {},
     "output_type": "execute_result"
    }
   ],
   "source": [
    "%continue"
   ]
  },
  {
   "cell_type": "code",
   "execution_count": 45,
   "id": "6cf39a03",
   "metadata": {},
   "outputs": [
    {
     "name": "stdout",
     "output_type": "stream",
     "text": [
      "No more results.\n"
     ]
    }
   ],
   "source": [
    "%continue"
   ]
  }
 ],
 "metadata": {
  "kernelspec": {
   "display_name": "Calysto Prolog",
   "language": "prolog",
   "name": "calysto_prolog"
  },
  "language_info": {
   "codemirror_mode": {
    "name": "prolog"
   },
   "mimetype": "text/x-prolog",
   "name": "prolog",
   "pygments_lexer": "prolog"
  }
 },
 "nbformat": 4,
 "nbformat_minor": 5
}
